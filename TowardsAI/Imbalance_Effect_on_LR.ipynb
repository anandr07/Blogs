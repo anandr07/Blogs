{
 "cells": [
  {
   "cell_type": "code",
   "execution_count": 1,
   "id": "2f3a0b8b",
   "metadata": {},
   "outputs": [],
   "source": [
    "#Import the needed Libraries\n",
    "import pandas as pd\n",
    "import numpy as np\n",
    "from scipy.linalg import eigh\n",
    "from sklearn.preprocessing import StandardScaler\n",
    "import matplotlib.pyplot as plt\n",
    "import seaborn as sns\n",
    "import numpy as np\n",
    "import matplotlib.pyplot as plt\n",
    "from sklearn.linear_model import LogisticRegression\n",
    "from sklearn.model_selection import train_test_split\n",
    "from sklearn.metrics import accuracy_score\n",
    "from sklearn.preprocessing import LabelEncoder"
   ]
  },
  {
   "cell_type": "code",
   "execution_count": 2,
   "id": "d2096851",
   "metadata": {},
   "outputs": [],
   "source": [
    "data_iris = pd.read_csv(\"Iris_Updated.csv\")"
   ]
  },
  {
   "cell_type": "code",
   "execution_count": 3,
   "id": "7ee62338",
   "metadata": {},
   "outputs": [
    {
     "data": {
      "text/html": [
       "<div>\n",
       "<style scoped>\n",
       "    .dataframe tbody tr th:only-of-type {\n",
       "        vertical-align: middle;\n",
       "    }\n",
       "\n",
       "    .dataframe tbody tr th {\n",
       "        vertical-align: top;\n",
       "    }\n",
       "\n",
       "    .dataframe thead th {\n",
       "        text-align: right;\n",
       "    }\n",
       "</style>\n",
       "<table border=\"1\" class=\"dataframe\">\n",
       "  <thead>\n",
       "    <tr style=\"text-align: right;\">\n",
       "      <th></th>\n",
       "      <th>Id</th>\n",
       "      <th>SepalLengthCm</th>\n",
       "      <th>SepalWidthCm</th>\n",
       "      <th>PetalLengthCm</th>\n",
       "      <th>PetalWidthCm</th>\n",
       "      <th>Species</th>\n",
       "    </tr>\n",
       "  </thead>\n",
       "  <tbody>\n",
       "    <tr>\n",
       "      <th>0</th>\n",
       "      <td>1</td>\n",
       "      <td>5.1</td>\n",
       "      <td>3.5</td>\n",
       "      <td>1.4</td>\n",
       "      <td>0.2</td>\n",
       "      <td>Iris-setosa</td>\n",
       "    </tr>\n",
       "    <tr>\n",
       "      <th>1</th>\n",
       "      <td>2</td>\n",
       "      <td>4.9</td>\n",
       "      <td>3.0</td>\n",
       "      <td>1.4</td>\n",
       "      <td>0.2</td>\n",
       "      <td>Iris-setosa</td>\n",
       "    </tr>\n",
       "    <tr>\n",
       "      <th>2</th>\n",
       "      <td>3</td>\n",
       "      <td>4.7</td>\n",
       "      <td>3.2</td>\n",
       "      <td>1.3</td>\n",
       "      <td>0.2</td>\n",
       "      <td>Iris-setosa</td>\n",
       "    </tr>\n",
       "    <tr>\n",
       "      <th>3</th>\n",
       "      <td>4</td>\n",
       "      <td>4.6</td>\n",
       "      <td>3.1</td>\n",
       "      <td>1.5</td>\n",
       "      <td>0.2</td>\n",
       "      <td>Iris-setosa</td>\n",
       "    </tr>\n",
       "    <tr>\n",
       "      <th>4</th>\n",
       "      <td>5</td>\n",
       "      <td>5.0</td>\n",
       "      <td>3.6</td>\n",
       "      <td>1.4</td>\n",
       "      <td>0.2</td>\n",
       "      <td>Iris-setosa</td>\n",
       "    </tr>\n",
       "  </tbody>\n",
       "</table>\n",
       "</div>"
      ],
      "text/plain": [
       "   Id  SepalLengthCm  SepalWidthCm  PetalLengthCm  PetalWidthCm      Species\n",
       "0   1            5.1           3.5            1.4           0.2  Iris-setosa\n",
       "1   2            4.9           3.0            1.4           0.2  Iris-setosa\n",
       "2   3            4.7           3.2            1.3           0.2  Iris-setosa\n",
       "3   4            4.6           3.1            1.5           0.2  Iris-setosa\n",
       "4   5            5.0           3.6            1.4           0.2  Iris-setosa"
      ]
     },
     "execution_count": 3,
     "metadata": {},
     "output_type": "execute_result"
    }
   ],
   "source": [
    "data_iris.head(5)"
   ]
  },
  {
   "cell_type": "code",
   "execution_count": 4,
   "id": "e02ff3f0",
   "metadata": {},
   "outputs": [],
   "source": [
    "data_iris = data_iris[[\"PetalWidthCm\", \"SepalLengthCm\",\"Species\"]]"
   ]
  },
  {
   "cell_type": "code",
   "execution_count": 5,
   "id": "9ecb49c7",
   "metadata": {},
   "outputs": [
    {
     "data": {
      "text/plain": [
       "Iris-setosa        50\n",
       "Iris-versicolor    44\n",
       "Iris-virginica     44\n",
       "Name: Species, dtype: int64"
      ]
     },
     "execution_count": 5,
     "metadata": {},
     "output_type": "execute_result"
    }
   ],
   "source": [
    "data_iris['Species'].value_counts()"
   ]
  },
  {
   "cell_type": "code",
   "execution_count": 6,
   "id": "7701fe2c",
   "metadata": {},
   "outputs": [],
   "source": [
    "data_iris_balanced = data_iris[data_iris['Species'] != 'Iris-setosa']"
   ]
  },
  {
   "cell_type": "code",
   "execution_count": 7,
   "id": "ce569573",
   "metadata": {},
   "outputs": [
    {
     "data": {
      "text/plain": [
       "Iris-versicolor    44\n",
       "Iris-virginica     44\n",
       "Name: Species, dtype: int64"
      ]
     },
     "execution_count": 7,
     "metadata": {},
     "output_type": "execute_result"
    }
   ],
   "source": [
    "data_iris_balanced['Species'].value_counts()"
   ]
  },
  {
   "cell_type": "markdown",
   "id": "f9f8d918",
   "metadata": {},
   "source": [
    "# 44:44"
   ]
  },
  {
   "cell_type": "code",
   "execution_count": 8,
   "id": "46a8b762",
   "metadata": {},
   "outputs": [
    {
     "name": "stderr",
     "output_type": "stream",
     "text": [
      "<ipython-input-8-2f34ddc11fd2>:3: SettingWithCopyWarning: \n",
      "A value is trying to be set on a copy of a slice from a DataFrame.\n",
      "Try using .loc[row_indexer,col_indexer] = value instead\n",
      "\n",
      "See the caveats in the documentation: https://pandas.pydata.org/pandas-docs/stable/user_guide/indexing.html#returning-a-view-versus-a-copy\n",
      "  data_iris_balanced['Species'] = le.fit_transform(data_iris_balanced['Species'])\n"
     ]
    },
    {
     "name": "stdout",
     "output_type": "stream",
     "text": [
      "Accuracy: 1.00\n"
     ]
    },
    {
     "data": {
      "image/png": "[encoded data removed]",
      "text/plain": [
       "<Figure size 432x288 with 1 Axes>"
      ]
     },
     "metadata": {
      "needs_background": "light"
     },
     "output_type": "display_data"
    }
   ],
   "source": [
    "# Encode the species column to numerical values\n",
    "le = LabelEncoder()\n",
    "data_iris_balanced['Species'] = le.fit_transform(data_iris_balanced['Species'])\n",
    "\n",
    "# Selecting only the required columns\n",
    "X = data_iris_balanced[[\"PetalWidthCm\", \"SepalLengthCm\"]]\n",
    "y = data_iris_balanced['Species']\n",
    "\n",
    "# Rename the dataset to data_iris_balanced\n",
    "data_iris_balanced = pd.concat([X, y], axis=1)\n",
    "\n",
    "# Split the data into training and testing sets\n",
    "X_train, X_test, y_train, y_test = train_test_split(X, y, test_size=0.2, random_state=42)\n",
    "\n",
    "# Initialize and train the logistic regression model\n",
    "model = LogisticRegression()\n",
    "model.fit(X_train, y_train)\n",
    "\n",
    "# Make predictions on the test set\n",
    "y_pred = model.predict(X_test)\n",
    "\n",
    "# Calculate accuracy\n",
    "accuracy = accuracy_score(y_test, y_pred)\n",
    "print(f\"Accuracy: {accuracy:.2f}\")\n",
    "\n",
    "# Plot the decision boundary with a legend\n",
    "x_min, x_max = X.iloc[:, 0].min() - 1, X.iloc[:, 0].max() + 1\n",
    "y_min, y_max = X.iloc[:, 1].min() - 1, X.iloc[:, 1].max() + 1\n",
    "xx, yy = np.meshgrid(np.arange(x_min, x_max, 0.01), np.arange(y_min, y_max, 0.01))\n",
    "\n",
    "Z = model.predict(np.c_[xx.ravel(), yy.ravel()])\n",
    "Z = Z.reshape(xx.shape)\n",
    "\n",
    "plt.contourf(xx, yy, Z, alpha=0.3)\n",
    "\n",
    "# Create a scatter plot with labels for each class\n",
    "scatter = plt.scatter(X.iloc[:, 0], X.iloc[:, 1], c=y, edgecolors='k', marker='o', s=50, linewidth=1)\n",
    "\n",
    "# Add legend\n",
    "legend_labels = le.classes_\n",
    "plt.legend(handles=scatter.legend_elements()[0], labels=[f\"Class {label}\" for label in legend_labels])\n",
    "\n",
    "plt.title(\"Logistic Regression Decision Boundary (Scenario 1)\")\n",
    "plt.xlabel(\"PetalWidthCm\")\n",
    "plt.ylabel(\"SepalLengthCm\")\n",
    "plt.show()"
   ]
  },
  {
   "cell_type": "markdown",
   "id": "a435f18a",
   "metadata": {},
   "source": [
    "# 21:44"
   ]
  },
  {
   "cell_type": "code",
   "execution_count": 9,
   "id": "5d8f327e",
   "metadata": {},
   "outputs": [
    {
     "name": "stderr",
     "output_type": "stream",
     "text": [
      "<ipython-input-9-147d8b65d2ad>:1: UserWarning: Boolean Series key will be reindexed to match DataFrame index.\n",
      "  data_iris_imbalanced_5 = data_iris_balanced[~((data_iris['Species'] == 'Iris-versicolor') & (data_iris['PetalWidthCm'] < 1.25))]\n"
     ]
    }
   ],
   "source": [
    "data_iris_imbalanced_5 = data_iris_balanced[~((data_iris['Species'] == 'Iris-versicolor') & (data_iris['PetalWidthCm'] < 1.25))]"
   ]
  },
  {
   "cell_type": "code",
   "execution_count": 10,
   "id": "a032bc4c",
   "metadata": {},
   "outputs": [
    {
     "name": "stderr",
     "output_type": "stream",
     "text": [
      "<ipython-input-10-0b0bdf5cbc0d>:1: UserWarning: Boolean Series key will be reindexed to match DataFrame index.\n",
      "  data_iris_imbalanced_5 = data_iris_imbalanced_5[~((data_iris['Species'] == 'Iris-versicolor') & (data_iris['SepalLengthCm'] < 5.7))]\n"
     ]
    }
   ],
   "source": [
    "data_iris_imbalanced_5 = data_iris_imbalanced_5[~((data_iris['Species'] == 'Iris-versicolor') & (data_iris['SepalLengthCm'] < 5.7))]"
   ]
  },
  {
   "cell_type": "code",
   "execution_count": 11,
   "id": "4caab636",
   "metadata": {},
   "outputs": [
    {
     "data": {
      "text/plain": [
       "1    44\n",
       "0    21\n",
       "Name: Species, dtype: int64"
      ]
     },
     "execution_count": 11,
     "metadata": {},
     "output_type": "execute_result"
    }
   ],
   "source": [
    "data_iris_imbalanced_5['Species'].value_counts()"
   ]
  },
  {
   "cell_type": "code",
   "execution_count": 12,
   "id": "c6855e18",
   "metadata": {},
   "outputs": [
    {
     "name": "stdout",
     "output_type": "stream",
     "text": [
      "Accuracy: 1.00\n"
     ]
    },
    {
     "data": {
      "image/png": "[encoded data removed]",
      "text/plain": [
       "<Figure size 432x288 with 1 Axes>"
      ]
     },
     "metadata": {
      "needs_background": "light"
     },
     "output_type": "display_data"
    }
   ],
   "source": [
    "# Encode the species column to numerical values\n",
    "le = LabelEncoder()\n",
    "data_iris_imbalanced_5['Species'] = le.fit_transform(data_iris_imbalanced_5['Species'])\n",
    "\n",
    "# Selecting only the required columns\n",
    "X = data_iris_imbalanced_5[[\"PetalWidthCm\", \"SepalLengthCm\"]]\n",
    "y = data_iris_imbalanced_5['Species']\n",
    "\n",
    "# Split the data into training and testing sets\n",
    "X_train, X_test, y_train, y_test = train_test_split(X, y, test_size=0.2, random_state=42)\n",
    "\n",
    "# Initialize and train the logistic regression model\n",
    "model = LogisticRegression()\n",
    "model.fit(X_train, y_train)\n",
    "\n",
    "# Make predictions on the test set\n",
    "y_pred = model.predict(X_test)\n",
    "\n",
    "# Calculate accuracy\n",
    "accuracy = accuracy_score(y_test, y_pred)\n",
    "print(f\"Accuracy: {accuracy:.2f}\")\n",
    "\n",
    "# Plot the decision boundary with a legend\n",
    "x_min, x_max = X.iloc[:, 0].min() - 1, X.iloc[:, 0].max() + 1\n",
    "y_min, y_max = X.iloc[:, 1].min() - 1, X.iloc[:, 1].max() + 1\n",
    "xx, yy = np.meshgrid(np.arange(x_min, x_max, 0.01), np.arange(y_min, y_max, 0.01))\n",
    "\n",
    "Z = model.predict(np.c_[xx.ravel(), yy.ravel()])\n",
    "Z = Z.reshape(xx.shape)\n",
    "\n",
    "plt.contourf(xx, yy, Z, alpha=0.3)\n",
    "\n",
    "# Create a scatter plot with labels for each class\n",
    "scatter = plt.scatter(X.iloc[:, 0], X.iloc[:, 1], c=y, edgecolors='k', marker='o', s=50, linewidth=1)\n",
    "\n",
    "# Add legend\n",
    "plt.legend(handles=scatter.legend_elements()[0], labels=[f\"Class {label}\" for label in legend_labels])\n",
    "\n",
    "plt.title(\"Logistic Regression Decision Boundary (Scenario 2)\")\n",
    "plt.xlabel(\"PetalWidthCm\")\n",
    "plt.ylabel(\"SepalLengthCm\")\n",
    "plt.show()"
   ]
  },
  {
   "cell_type": "markdown",
   "id": "bbeb017b",
   "metadata": {},
   "source": [
    "# 15:44"
   ]
  },
  {
   "cell_type": "code",
   "execution_count": 13,
   "id": "01c7f096",
   "metadata": {},
   "outputs": [
    {
     "name": "stderr",
     "output_type": "stream",
     "text": [
      "<ipython-input-13-097e7db93fe1>:1: UserWarning: Boolean Series key will be reindexed to match DataFrame index.\n",
      "  data_iris_imbalanced_15 = data_iris_balanced[~((data_iris['Species'] == 'Iris-versicolor') & (data_iris['PetalWidthCm'] < 1.4))]\n"
     ]
    }
   ],
   "source": [
    "data_iris_imbalanced_15 = data_iris_balanced[~((data_iris['Species'] == 'Iris-versicolor') & (data_iris['PetalWidthCm'] < 1.4))]"
   ]
  },
  {
   "cell_type": "code",
   "execution_count": 14,
   "id": "d4689ed3",
   "metadata": {},
   "outputs": [
    {
     "name": "stderr",
     "output_type": "stream",
     "text": [
      "<ipython-input-14-14cf38599831>:1: UserWarning: Boolean Series key will be reindexed to match DataFrame index.\n",
      "  data_iris_imbalanced_15 = data_iris_imbalanced_15[~((data_iris['Species'] == 'Iris-versicolor') & (data_iris['SepalLengthCm'] < 5.3))]\n"
     ]
    }
   ],
   "source": [
    "data_iris_imbalanced_15 = data_iris_imbalanced_15[~((data_iris['Species'] == 'Iris-versicolor') & (data_iris['SepalLengthCm'] < 5.3))]"
   ]
  },
  {
   "cell_type": "code",
   "execution_count": 15,
   "id": "0c41d599",
   "metadata": {},
   "outputs": [
    {
     "data": {
      "text/plain": [
       "1    44\n",
       "0    15\n",
       "Name: Species, dtype: int64"
      ]
     },
     "execution_count": 15,
     "metadata": {},
     "output_type": "execute_result"
    }
   ],
   "source": [
    "data_iris_imbalanced_15['Species'].value_counts()"
   ]
  },
  {
   "cell_type": "code",
   "execution_count": 16,
   "id": "9af0fc0a",
   "metadata": {},
   "outputs": [
    {
     "name": "stdout",
     "output_type": "stream",
     "text": [
      "Accuracy: 0.75\n"
     ]
    },
    {
     "data": {
      "image/png": "[encoded data removed]",
      "text/plain": [
       "<Figure size 432x288 with 1 Axes>"
      ]
     },
     "metadata": {
      "needs_background": "light"
     },
     "output_type": "display_data"
    }
   ],
   "source": [
    "# Encode the species column to numerical values\n",
    "le = LabelEncoder()\n",
    "data_iris_imbalanced_15['Species'] = le.fit_transform(data_iris_imbalanced_15['Species'])\n",
    "\n",
    "# Selecting only the required columns\n",
    "X = data_iris_imbalanced_15[[\"PetalWidthCm\", \"SepalLengthCm\"]]\n",
    "y = data_iris_imbalanced_15['Species']\n",
    "\n",
    "# Split the data into training and testing sets\n",
    "X_train, X_test, y_train, y_test = train_test_split(X, y, test_size=0.2, random_state=42)\n",
    "\n",
    "# Initialize and train the logistic regression model\n",
    "model = LogisticRegression()\n",
    "model.fit(X_train, y_train)\n",
    "\n",
    "# Make predictions on the test set\n",
    "y_pred = model.predict(X_test)\n",
    "\n",
    "# Calculate accuracy\n",
    "accuracy = accuracy_score(y_test, y_pred)\n",
    "print(f\"Accuracy: {accuracy:.2f}\")\n",
    "\n",
    "# Plot the decision boundary with a legend\n",
    "x_min, x_max = X.iloc[:, 0].min() - 1, X.iloc[:, 0].max() + 1\n",
    "y_min, y_max = X.iloc[:, 1].min() - 1, X.iloc[:, 1].max() + 1\n",
    "xx, yy = np.meshgrid(np.arange(x_min, x_max, 0.01), np.arange(y_min, y_max, 0.01))\n",
    "\n",
    "Z = model.predict(np.c_[xx.ravel(), yy.ravel()])\n",
    "Z = Z.reshape(xx.shape)\n",
    "\n",
    "plt.contourf(xx, yy, Z, alpha=0.3)\n",
    "\n",
    "# Create a scatter plot with labels for each class\n",
    "scatter = plt.scatter(X.iloc[:, 0], X.iloc[:, 1], c=y, edgecolors='k', marker='o', s=50, linewidth=1)\n",
    "\n",
    "# Add legend\n",
    "plt.legend(handles=scatter.legend_elements()[0], labels=[f\"Class {label}\" for label in legend_labels])\n",
    "\n",
    "plt.title(\"Logistic Regression Decision Boundary (Scenario 3)\")\n",
    "plt.xlabel(\"PetalWidthCm\")\n",
    "plt.ylabel(\"SepalLengthCm\")\n",
    "plt.show()"
   ]
  },
  {
   "cell_type": "markdown",
   "id": "43759a06",
   "metadata": {},
   "source": [
    "# 10:44"
   ]
  },
  {
   "cell_type": "code",
   "execution_count": 17,
   "id": "0ec85183",
   "metadata": {},
   "outputs": [
    {
     "name": "stderr",
     "output_type": "stream",
     "text": [
      "<ipython-input-17-315ba868f4e3>:1: UserWarning: Boolean Series key will be reindexed to match DataFrame index.\n",
      "  data_iris_imbalanced_10 = data_iris_balanced[~((data_iris['Species'] == 'Iris-versicolor') & (data_iris['PetalWidthCm'] < 1.5))]\n"
     ]
    }
   ],
   "source": [
    "data_iris_imbalanced_10 = data_iris_balanced[~((data_iris['Species'] == 'Iris-versicolor') & (data_iris['PetalWidthCm'] < 1.5))]"
   ]
  },
  {
   "cell_type": "code",
   "execution_count": 18,
   "id": "79832c5e",
   "metadata": {},
   "outputs": [
    {
     "data": {
      "text/plain": [
       "1    44\n",
       "0    10\n",
       "Name: Species, dtype: int64"
      ]
     },
     "execution_count": 18,
     "metadata": {},
     "output_type": "execute_result"
    }
   ],
   "source": [
    "data_iris_imbalanced_10['Species'].value_counts()"
   ]
  },
  {
   "cell_type": "code",
   "execution_count": 19,
   "id": "031b1200",
   "metadata": {},
   "outputs": [
    {
     "name": "stderr",
     "output_type": "stream",
     "text": [
      "<ipython-input-19-8e70f8385a06>:3: SettingWithCopyWarning: \n",
      "A value is trying to be set on a copy of a slice from a DataFrame.\n",
      "Try using .loc[row_indexer,col_indexer] = value instead\n",
      "\n",
      "See the caveats in the documentation: https://pandas.pydata.org/pandas-docs/stable/user_guide/indexing.html#returning-a-view-versus-a-copy\n",
      "  data_iris_imbalanced_10['Species'] = le.fit_transform(data_iris_imbalanced_10['Species'])\n"
     ]
    },
    {
     "name": "stdout",
     "output_type": "stream",
     "text": [
      "Accuracy: 0.82\n"
     ]
    },
    {
     "data": {
      "image/png": "[encoded data removed]",
      "text/plain": [
       "<Figure size 432x288 with 1 Axes>"
      ]
     },
     "metadata": {
      "needs_background": "light"
     },
     "output_type": "display_data"
    }
   ],
   "source": [
    "# Encode the species column to numerical values\n",
    "le = LabelEncoder()\n",
    "data_iris_imbalanced_10['Species'] = le.fit_transform(data_iris_imbalanced_10['Species'])\n",
    "\n",
    "# Selecting only the required columns\n",
    "X = data_iris_imbalanced_10[[\"PetalWidthCm\", \"SepalLengthCm\"]]\n",
    "y = data_iris_imbalanced_10['Species']\n",
    "\n",
    "# Split the data into training and testing sets\n",
    "X_train, X_test, y_train, y_test = train_test_split(X, y, test_size=0.2, random_state=42)\n",
    "\n",
    "# Initialize and train the logistic regression model\n",
    "model = LogisticRegression()\n",
    "model.fit(X_train, y_train)\n",
    "\n",
    "# Make predictions on the test set\n",
    "y_pred = model.predict(X_test)\n",
    "\n",
    "# Calculate accuracy\n",
    "accuracy = accuracy_score(y_test, y_pred)\n",
    "print(f\"Accuracy: {accuracy:.2f}\")\n",
    "\n",
    "# Plot the decision boundary with a legend\n",
    "x_min, x_max = X.iloc[:, 0].min() - 1, X.iloc[:, 0].max() + 1\n",
    "y_min, y_max = X.iloc[:, 1].min() - 1, X.iloc[:, 1].max() + 1\n",
    "xx, yy = np.meshgrid(np.arange(x_min, x_max, 0.01), np.arange(y_min, y_max, 0.01))\n",
    "\n",
    "Z = model.predict(np.c_[xx.ravel(), yy.ravel()])\n",
    "Z = Z.reshape(xx.shape)\n",
    "\n",
    "plt.contourf(xx, yy, Z, alpha=0.3)\n",
    "\n",
    "# Create a scatter plot with labels for each class\n",
    "scatter = plt.scatter(X.iloc[:, 0], X.iloc[:, 1], c=y, edgecolors='k', marker='o', s=50, linewidth=1)\n",
    "\n",
    "# Add legend\n",
    "plt.legend(handles=scatter.legend_elements()[0], labels=[f\"Class {label}\" for label in legend_labels])\n",
    "\n",
    "plt.title(\"Logistic Regression Decision Boundary (Scenario 4)\")\n",
    "plt.xlabel(\"PetalWidthCm\")\n",
    "plt.ylabel(\"SepalLengthCm\")\n",
    "plt.show()"
   ]
  },
  {
   "cell_type": "markdown",
   "id": "c1b4cfbf",
   "metadata": {},
   "source": [
    "# 4:44"
   ]
  },
  {
   "cell_type": "code",
   "execution_count": 20,
   "id": "4e5625f5",
   "metadata": {},
   "outputs": [
    {
     "name": "stderr",
     "output_type": "stream",
     "text": [
      "<ipython-input-20-81cfc292ec6b>:1: UserWarning: Boolean Series key will be reindexed to match DataFrame index.\n",
      "  data_iris_imbalanced_5 = data_iris_balanced[~((data_iris['Species'] == 'Iris-versicolor') & (data_iris['PetalWidthCm'] < 1.5))]\n"
     ]
    }
   ],
   "source": [
    "data_iris_imbalanced_5 = data_iris_balanced[~((data_iris['Species'] == 'Iris-versicolor') & (data_iris['PetalWidthCm'] < 1.5))]"
   ]
  },
  {
   "cell_type": "code",
   "execution_count": 21,
   "id": "208a6e32",
   "metadata": {},
   "outputs": [
    {
     "name": "stderr",
     "output_type": "stream",
     "text": [
      "<ipython-input-21-5ec2d1e7d3bd>:1: UserWarning: Boolean Series key will be reindexed to match DataFrame index.\n",
      "  data_iris_imbalanced_5 = data_iris_imbalanced_5[~((data_iris['Species'] == 'Iris-versicolor') & (data_iris['SepalLengthCm'] < 6.4))]\n"
     ]
    }
   ],
   "source": [
    "data_iris_imbalanced_5 = data_iris_imbalanced_5[~((data_iris['Species'] == 'Iris-versicolor') & (data_iris['SepalLengthCm'] < 6.4))]"
   ]
  },
  {
   "cell_type": "code",
   "execution_count": 22,
   "id": "293fdafd",
   "metadata": {},
   "outputs": [
    {
     "data": {
      "text/plain": [
       "1    44\n",
       "0     4\n",
       "Name: Species, dtype: int64"
      ]
     },
     "execution_count": 22,
     "metadata": {},
     "output_type": "execute_result"
    }
   ],
   "source": [
    "data_iris_imbalanced_5['Species'].value_counts()"
   ]
  },
  {
   "cell_type": "code",
   "execution_count": 23,
   "id": "a434fee6",
   "metadata": {},
   "outputs": [
    {
     "name": "stdout",
     "output_type": "stream",
     "text": [
      "Accuracy: 1.00\n"
     ]
    },
    {
     "data": {
      "image/png": "[encoded data removed]",
      "text/plain": [
       "<Figure size 432x288 with 1 Axes>"
      ]
     },
     "metadata": {
      "needs_background": "light"
     },
     "output_type": "display_data"
    }
   ],
   "source": [
    "# Encode the species column to numerical values\n",
    "le = LabelEncoder()\n",
    "data_iris_imbalanced_5['Species'] = le.fit_transform(data_iris_imbalanced_5['Species'])\n",
    "\n",
    "# Selecting only the required columns\n",
    "X = data_iris_imbalanced_5[[\"PetalWidthCm\", \"SepalLengthCm\"]]\n",
    "y = data_iris_imbalanced_5['Species']\n",
    "\n",
    "# Split the data into training and testing sets\n",
    "X_train, X_test, y_train, y_test = train_test_split(X, y, test_size=0.2, random_state=42)\n",
    "\n",
    "# Initialize and train the logistic regression model\n",
    "model = LogisticRegression()\n",
    "model.fit(X_train, y_train)\n",
    "\n",
    "# Make predictions on the test set\n",
    "y_pred = model.predict(X_test)\n",
    "\n",
    "# Calculate accuracy\n",
    "accuracy = accuracy_score(y_test, y_pred)\n",
    "print(f\"Accuracy: {accuracy:.2f}\")\n",
    "\n",
    "# Plot the decision boundary with a legend\n",
    "x_min, x_max = X.iloc[:, 0].min() - 1, X.iloc[:, 0].max() + 1\n",
    "y_min, y_max = X.iloc[:, 1].min() - 1, X.iloc[:, 1].max() + 1\n",
    "xx, yy = np.meshgrid(np.arange(x_min, x_max, 0.01), np.arange(y_min, y_max, 0.01))\n",
    "\n",
    "Z = model.predict(np.c_[xx.ravel(), yy.ravel()])\n",
    "Z = Z.reshape(xx.shape)\n",
    "\n",
    "plt.contourf(xx, yy, Z, alpha=0.3)\n",
    "\n",
    "# Create a scatter plot with labels for each class\n",
    "scatter = plt.scatter(X.iloc[:, 0], X.iloc[:, 1], c=y, edgecolors='k', marker='o', s=50, linewidth=1)\n",
    "\n",
    "# Add legend\n",
    "plt.legend(handles=scatter.legend_elements()[0], labels=[f\"Class {label}\" for label in legend_labels])\n",
    "\n",
    "plt.title(\"Logistic Regression Decision Boundary (Scenario 5)\")\n",
    "plt.xlabel(\"PetalWidthCm\")\n",
    "plt.ylabel(\"SepalLengthCm\")\n",
    "plt.show()"
   ]
  },
  {
   "cell_type": "code",
   "execution_count": 24,
   "id": "93f21c61",
   "metadata": {},
   "outputs": [
    {
     "name": "stderr",
     "output_type": "stream",
     "text": [
      "<ipython-input-24-d6cd709d449d>:1: UserWarning: Boolean Series key will be reindexed to match DataFrame index.\n",
      "  data_iris_imbalanced_C1 = data_iris_balanced[~((data_iris['Species'] == 'Iris-versicolor') & (data_iris['PetalWidthCm'] < 1.5))]\n"
     ]
    }
   ],
   "source": [
    "data_iris_imbalanced_C1 = data_iris_balanced[~((data_iris['Species'] == 'Iris-versicolor') & (data_iris['PetalWidthCm'] < 1.5))]"
   ]
  },
  {
   "cell_type": "code",
   "execution_count": 25,
   "id": "e24f899e",
   "metadata": {},
   "outputs": [
    {
     "name": "stderr",
     "output_type": "stream",
     "text": [
      "<ipython-input-25-d41a63cb8cda>:1: UserWarning: Boolean Series key will be reindexed to match DataFrame index.\n",
      "  data_iris_imbalanced_C1 = data_iris_imbalanced_C1[~((data_iris['Species'] == 'Iris-virginica') & (data_iris['PetalWidthCm'] > 1.8))]\n"
     ]
    }
   ],
   "source": [
    "data_iris_imbalanced_C1 = data_iris_imbalanced_C1[~((data_iris['Species'] == 'Iris-virginica') & (data_iris['PetalWidthCm'] > 1.8))]"
   ]
  },
  {
   "cell_type": "code",
   "execution_count": 26,
   "id": "99d110b4",
   "metadata": {},
   "outputs": [
    {
     "name": "stderr",
     "output_type": "stream",
     "text": [
      "<ipython-input-26-e3b58c55c8bc>:1: UserWarning: Boolean Series key will be reindexed to match DataFrame index.\n",
      "  data_iris_imbalanced_C1 = data_iris_imbalanced_C1[~((data_iris['Species'] == 'Iris-versicolor') & (data_iris['SepalLengthCm'] <= 6.0))]\n"
     ]
    }
   ],
   "source": [
    "data_iris_imbalanced_C1 = data_iris_imbalanced_C1[~((data_iris['Species'] == 'Iris-versicolor') & (data_iris['SepalLengthCm'] <= 6.0))]"
   ]
  },
  {
   "cell_type": "code",
   "execution_count": 27,
   "id": "fc4c45d8",
   "metadata": {},
   "outputs": [
    {
     "name": "stderr",
     "output_type": "stream",
     "text": [
      "<ipython-input-27-27e67f224da2>:1: UserWarning: Boolean Series key will be reindexed to match DataFrame index.\n",
      "  data_iris_imbalanced_C1 = data_iris_imbalanced_C1[~((data_iris['Species'] == 'Iris-versicolor') & (data_iris['SepalLengthCm'] >= 6.4))]\n"
     ]
    }
   ],
   "source": [
    "data_iris_imbalanced_C1 = data_iris_imbalanced_C1[~((data_iris['Species'] == 'Iris-versicolor') & (data_iris['SepalLengthCm'] >= 6.4))]"
   ]
  },
  {
   "cell_type": "code",
   "execution_count": 28,
   "id": "7591430b",
   "metadata": {},
   "outputs": [
    {
     "name": "stderr",
     "output_type": "stream",
     "text": [
      "<ipython-input-28-11c05a33bd01>:1: UserWarning: Boolean Series key will be reindexed to match DataFrame index.\n",
      "  data_iris_imbalanced_C1 = data_iris_imbalanced_C1[~((data_iris['Species'] == 'Iris-virginica') & (data_iris['SepalLengthCm'] > 7.0))]\n"
     ]
    }
   ],
   "source": [
    "data_iris_imbalanced_C1 = data_iris_imbalanced_C1[~((data_iris['Species'] == 'Iris-virginica') & (data_iris['SepalLengthCm'] > 7.0))]"
   ]
  },
  {
   "cell_type": "code",
   "execution_count": 29,
   "id": "563ab7d8",
   "metadata": {},
   "outputs": [
    {
     "name": "stderr",
     "output_type": "stream",
     "text": [
      "<ipython-input-29-aac7a84b23bb>:1: UserWarning: Boolean Series key will be reindexed to match DataFrame index.\n",
      "  data_iris_imbalanced_C1 = data_iris_imbalanced_C1[~((data_iris['Species'] == 'Iris-virginica') & (data_iris['SepalLengthCm'] < 6.0))]\n"
     ]
    }
   ],
   "source": [
    "data_iris_imbalanced_C1 = data_iris_imbalanced_C1[~((data_iris['Species'] == 'Iris-virginica') & (data_iris['SepalLengthCm'] < 6.0))]"
   ]
  },
  {
   "cell_type": "code",
   "execution_count": 30,
   "id": "f4ccde6a",
   "metadata": {},
   "outputs": [
    {
     "data": {
      "text/plain": [
       "1    8\n",
       "0    2\n",
       "Name: Species, dtype: int64"
      ]
     },
     "execution_count": 30,
     "metadata": {},
     "output_type": "execute_result"
    }
   ],
   "source": [
    "data_iris_imbalanced_C1['Species'].value_counts()"
   ]
  },
  {
   "cell_type": "code",
   "execution_count": 31,
   "id": "9d43c8e2",
   "metadata": {},
   "outputs": [
    {
     "data": {
      "text/html": [
       "<div>\n",
       "<style scoped>\n",
       "    .dataframe tbody tr th:only-of-type {\n",
       "        vertical-align: middle;\n",
       "    }\n",
       "\n",
       "    .dataframe tbody tr th {\n",
       "        vertical-align: top;\n",
       "    }\n",
       "\n",
       "    .dataframe thead th {\n",
       "        text-align: right;\n",
       "    }\n",
       "</style>\n",
       "<table border=\"1\" class=\"dataframe\">\n",
       "  <thead>\n",
       "    <tr style=\"text-align: right;\">\n",
       "      <th></th>\n",
       "      <th>PetalWidthCm</th>\n",
       "      <th>SepalLengthCm</th>\n",
       "      <th>Species</th>\n",
       "    </tr>\n",
       "  </thead>\n",
       "  <tbody>\n",
       "    <tr>\n",
       "      <th>67</th>\n",
       "      <td>1.5</td>\n",
       "      <td>6.2</td>\n",
       "      <td>0</td>\n",
       "    </tr>\n",
       "    <tr>\n",
       "      <th>70</th>\n",
       "      <td>1.5</td>\n",
       "      <td>6.3</td>\n",
       "      <td>0</td>\n",
       "    </tr>\n",
       "    <tr>\n",
       "      <th>97</th>\n",
       "      <td>1.8</td>\n",
       "      <td>6.3</td>\n",
       "      <td>1</td>\n",
       "    </tr>\n",
       "    <tr>\n",
       "      <th>101</th>\n",
       "      <td>1.8</td>\n",
       "      <td>6.7</td>\n",
       "      <td>1</td>\n",
       "    </tr>\n",
       "    <tr>\n",
       "      <th>109</th>\n",
       "      <td>1.8</td>\n",
       "      <td>6.5</td>\n",
       "      <td>1</td>\n",
       "    </tr>\n",
       "  </tbody>\n",
       "</table>\n",
       "</div>"
      ],
      "text/plain": [
       "     PetalWidthCm  SepalLengthCm  Species\n",
       "67            1.5            6.2        0\n",
       "70            1.5            6.3        0\n",
       "97            1.8            6.3        1\n",
       "101           1.8            6.7        1\n",
       "109           1.8            6.5        1"
      ]
     },
     "execution_count": 31,
     "metadata": {},
     "output_type": "execute_result"
    }
   ],
   "source": [
    "data_iris_imbalanced_C1.head(5)"
   ]
  },
  {
   "cell_type": "code",
   "execution_count": 32,
   "id": "104c0607",
   "metadata": {},
   "outputs": [
    {
     "data": {
      "image/png": "[encoded data removed]",
      "text/plain": [
       "<Figure size 432x288 with 1 Axes>"
      ]
     },
     "metadata": {
      "needs_background": "light"
     },
     "output_type": "display_data"
    }
   ],
   "source": [
    "import matplotlib.pyplot as plt\n",
    "\n",
    "# Separate the data based on species\n",
    "versicolor = data_iris_imbalanced_C1[data_iris_imbalanced_C1['Species'] == 0]\n",
    "virginica = data_iris_imbalanced_C1[data_iris_imbalanced_C1['Species'] == 1]\n",
    "\n",
    "# Plotting\n",
    "plt.scatter(versicolor[\"PetalWidthCm\"], versicolor[\"SepalLengthCm\"], color='purple', label='Versicolor')\n",
    "plt.scatter(virginica[\"PetalWidthCm\"], virginica[\"SepalLengthCm\"], color='yellow', label='Virginica')\n",
    "\n",
    "# Set background color to grey\n",
    "plt.gca().set_facecolor('lightgrey')\n",
    "\n",
    "# Set axis limits\n",
    "plt.xlim(0.5, 2.5)\n",
    "plt.ylim(5.0, 7.5)\n",
    "\n",
    "# Set axis labels\n",
    "plt.xlabel(\"PetalWidthCm\")\n",
    "plt.ylabel(\"SepalLengthCm\")\n",
    "\n",
    "# Add legend\n",
    "plt.legend()\n",
    "\n",
    "# Show the plot\n",
    "plt.title(\"Logistic Regression Decision Boundary (Case 1)\")\n",
    "plt.show()\n"
   ]
  },
  {
   "cell_type": "code",
   "execution_count": 33,
   "id": "42f36964",
   "metadata": {},
   "outputs": [
    {
     "data": {
      "image/png": "[encoded data removed]",
      "text/plain": [
       "<Figure size 432x288 with 1 Axes>"
      ]
     },
     "metadata": {
      "needs_background": "light"
     },
     "output_type": "display_data"
    }
   ],
   "source": [
    "import matplotlib.pyplot as plt\n",
    "\n",
    "# Separate the data based on species\n",
    "versicolor = data_iris_imbalanced_C1[data_iris_imbalanced_C1['Species'] == 0]\n",
    "virginica = data_iris_imbalanced_C1[data_iris_imbalanced_C1['Species'] == 1]\n",
    "\n",
    "# Plotting\n",
    "plt.scatter(versicolor[\"PetalWidthCm\"], versicolor[\"SepalLengthCm\"], color='purple', label='Versicolor')\n",
    "plt.scatter(virginica[\"PetalWidthCm\"], virginica[\"SepalLengthCm\"], color='yellow', label='Virginica')\n",
    "\n",
    "# Set background color to grey\n",
    "plt.gca().set_facecolor('lightgrey')\n",
    "\n",
    "# Set axis limits\n",
    "plt.xlim(0.5, 2.5)\n",
    "plt.ylim(5.0, 7.5)\n",
    "\n",
    "# Set axis labels\n",
    "plt.xlabel(\"PetalWidthCm\")\n",
    "plt.ylabel(\"SepalLengthCm\")\n",
    "\n",
    "# Add legend\n",
    "plt.legend()\n",
    "\n",
    "# Show the plot\n",
    "plt.title(\"Logistic Regression Decision Boundary (Case 2)\")\n",
    "plt.show()"
   ]
  },
  {
   "cell_type": "code",
   "execution_count": 34,
   "id": "590997f5",
   "metadata": {},
   "outputs": [
    {
     "name": "stderr",
     "output_type": "stream",
     "text": [
      "<ipython-input-34-d8c7b174c611>:1: UserWarning: Boolean Series key will be reindexed to match DataFrame index.\n",
      "  data_iris_imbalanced_C3 = data_iris_balanced[~((data_iris['Species'] == 'Iris-versicolor') & (data_iris['PetalWidthCm'] < 1.5))]\n"
     ]
    }
   ],
   "source": [
    "data_iris_imbalanced_C3 = data_iris_balanced[~((data_iris['Species'] == 'Iris-versicolor') & (data_iris['PetalWidthCm'] < 1.5))]"
   ]
  },
  {
   "cell_type": "code",
   "execution_count": 35,
   "id": "1aca48d4",
   "metadata": {},
   "outputs": [
    {
     "name": "stderr",
     "output_type": "stream",
     "text": [
      "<ipython-input-35-1e51304e83eb>:1: UserWarning: Boolean Series key will be reindexed to match DataFrame index.\n",
      "  data_iris_imbalanced_C3 = data_iris_imbalanced_C3[~((data_iris['Species'] == 'Iris-virginica') & (data_iris['PetalWidthCm'] > 1.8))]\n"
     ]
    }
   ],
   "source": [
    "data_iris_imbalanced_C3 = data_iris_imbalanced_C3[~((data_iris['Species'] == 'Iris-virginica') & (data_iris['PetalWidthCm'] > 1.8))]"
   ]
  },
  {
   "cell_type": "code",
   "execution_count": 36,
   "id": "2e70bc80",
   "metadata": {},
   "outputs": [
    {
     "name": "stderr",
     "output_type": "stream",
     "text": [
      "<ipython-input-36-547245db56df>:1: UserWarning: Boolean Series key will be reindexed to match DataFrame index.\n",
      "  data_iris_imbalanced_C3 = data_iris_imbalanced_C3[~((data_iris['Species'] == 'Iris-versicolor') & (data_iris['SepalLengthCm'] <= 5.6))]\n"
     ]
    }
   ],
   "source": [
    "data_iris_imbalanced_C3 = data_iris_imbalanced_C3[~((data_iris['Species'] == 'Iris-versicolor') & (data_iris['SepalLengthCm'] <= 5.6))]"
   ]
  },
  {
   "cell_type": "code",
   "execution_count": 37,
   "id": "dd8b6474",
   "metadata": {},
   "outputs": [
    {
     "name": "stderr",
     "output_type": "stream",
     "text": [
      "<ipython-input-37-40fe9474116d>:1: UserWarning: Boolean Series key will be reindexed to match DataFrame index.\n",
      "  data_iris_imbalanced_C3 = data_iris_imbalanced_C3[~((data_iris['Species'] == 'Iris-versicolor') & (data_iris['SepalLengthCm'] >= 6.8))]\n"
     ]
    }
   ],
   "source": [
    "data_iris_imbalanced_C3 = data_iris_imbalanced_C3[~((data_iris['Species'] == 'Iris-versicolor') & (data_iris['SepalLengthCm'] >= 6.8))]"
   ]
  },
  {
   "cell_type": "code",
   "execution_count": 38,
   "id": "81fe62e3",
   "metadata": {},
   "outputs": [
    {
     "name": "stderr",
     "output_type": "stream",
     "text": [
      "<ipython-input-38-7ba52f472b38>:1: UserWarning: Boolean Series key will be reindexed to match DataFrame index.\n",
      "  data_iris_imbalanced_C3 = data_iris_imbalanced_C3[~((data_iris['Species'] == 'Iris-virginica') & (data_iris['SepalLengthCm'] > 7.0))]\n"
     ]
    }
   ],
   "source": [
    "data_iris_imbalanced_C3 = data_iris_imbalanced_C3[~((data_iris['Species'] == 'Iris-virginica') & (data_iris['SepalLengthCm'] > 7.0))]"
   ]
  },
  {
   "cell_type": "code",
   "execution_count": 39,
   "id": "779e494d",
   "metadata": {},
   "outputs": [
    {
     "name": "stderr",
     "output_type": "stream",
     "text": [
      "<ipython-input-39-9d7f76983dc8>:1: UserWarning: Boolean Series key will be reindexed to match DataFrame index.\n",
      "  data_iris_imbalanced_C3 = data_iris_imbalanced_C3[~((data_iris['Species'] == 'Iris-virginica') & (data_iris['SepalLengthCm'] < 6.0))]\n"
     ]
    }
   ],
   "source": [
    "data_iris_imbalanced_C3 = data_iris_imbalanced_C3[~((data_iris['Species'] == 'Iris-virginica') & (data_iris['SepalLengthCm'] < 6.0))]"
   ]
  },
  {
   "cell_type": "code",
   "execution_count": 40,
   "id": "d4da5fea",
   "metadata": {},
   "outputs": [
    {
     "data": {
      "text/plain": [
       "1    8\n",
       "0    7\n",
       "Name: Species, dtype: int64"
      ]
     },
     "execution_count": 40,
     "metadata": {},
     "output_type": "execute_result"
    }
   ],
   "source": [
    "data_iris_imbalanced_C3['Species'].value_counts()"
   ]
  },
  {
   "cell_type": "code",
   "execution_count": 41,
   "id": "76f753e4",
   "metadata": {},
   "outputs": [
    {
     "name": "stdout",
     "output_type": "stream",
     "text": [
      "Accuracy: 1.00\n"
     ]
    },
    {
     "data": {
      "image/png": "[encoded data removed]",
      "text/plain": [
       "<Figure size 432x288 with 1 Axes>"
      ]
     },
     "metadata": {
      "needs_background": "light"
     },
     "output_type": "display_data"
    }
   ],
   "source": [
    "# Encode the species column to numerical values\n",
    "le = LabelEncoder()\n",
    "data_iris_imbalanced_C3['Species'] = le.fit_transform(data_iris_imbalanced_C3['Species'])\n",
    "\n",
    "# Selecting only the required columns\n",
    "X = data_iris_imbalanced_C3[[\"PetalWidthCm\", \"SepalLengthCm\"]]\n",
    "y = data_iris_imbalanced_C3['Species']\n",
    "\n",
    "# Split the data into training and testing sets\n",
    "X_train, X_test, y_train, y_test = train_test_split(X, y, test_size=0.2, random_state=42)\n",
    "\n",
    "# Initialize and train the logistic regression model\n",
    "model = LogisticRegression()\n",
    "model.fit(X_train, y_train)\n",
    "\n",
    "# Make predictions on the test set\n",
    "y_pred = model.predict(X_test)\n",
    "\n",
    "# Calculate accuracy\n",
    "accuracy = accuracy_score(y_test, y_pred)\n",
    "print(f\"Accuracy: {accuracy:.2f}\")\n",
    "\n",
    "# Plot the decision boundary with a legend\n",
    "x_min, x_max = X.iloc[:, 0].min() - 1, X.iloc[:, 0].max() + 1\n",
    "y_min, y_max = X.iloc[:, 1].min() - 1, X.iloc[:, 1].max() + 1\n",
    "xx, yy = np.meshgrid(np.arange(x_min, x_max, 0.01), np.arange(y_min, y_max, 0.01))\n",
    "\n",
    "Z = model.predict(np.c_[xx.ravel(), yy.ravel()])\n",
    "Z = Z.reshape(xx.shape)\n",
    "\n",
    "plt.contourf(xx, yy, Z, alpha=0.3)\n",
    "\n",
    "# Create a scatter plot with labels for each class\n",
    "scatter = plt.scatter(X.iloc[:, 0], X.iloc[:, 1], c=y, edgecolors='k', marker='o', s=50, linewidth=1)\n",
    "\n",
    "# Add legend\n",
    "plt.legend(handles=scatter.legend_elements()[0], labels=[f\"Class {label}\" for label in legend_labels])\n",
    "\n",
    "plt.title(\"Logistic Regression Decision Boundary (Case 3)\")\n",
    "plt.xlabel(\"PetalWidthCm\")\n",
    "plt.ylabel(\"SepalLengthCm\")\n",
    "plt.show()"
   ]
  },
  {
   "cell_type": "code",
   "execution_count": 42,
   "id": "d49ef249",
   "metadata": {},
   "outputs": [
    {
     "data": {
      "image/png": "[encoded data removed]",
      "text/plain": [
       "<Figure size 432x288 with 1 Axes>"
      ]
     },
     "metadata": {
      "needs_background": "light"
     },
     "output_type": "display_data"
    }
   ],
   "source": [
    "from matplotlib.colors import ListedColormap\n",
    "\n",
    "# Plot the data points with different colors for each class\n",
    "plt.scatter(X.iloc[:, 0], X.iloc[:, 1], c=y, cmap=ListedColormap(['purple', 'yellow']), edgecolors='k', marker='o', s=50, linewidth=1)\n",
    "\n",
    "# Set background color to grey\n",
    "plt.gca().set_facecolor('lightgrey')\n",
    "\n",
    "# Set axis limits\n",
    "plt.xlim(0.5, 2.5)\n",
    "plt.ylim(5.0, 7.5)\n",
    "\n",
    "plt.title(\"Logistic Regression Decision Boundary (Case 3)\")\n",
    "plt.xlabel(\"PetalWidthCm\")\n",
    "plt.ylabel(\"SepalLengthCm\")\n",
    "plt.show()\n"
   ]
  },
  {
   "cell_type": "code",
   "execution_count": null,
   "id": "5ade63ec",
   "metadata": {},
   "outputs": [],
   "source": []
  }
 ],
 "metadata": {
  "kernelspec": {
   "display_name": "Python 3",
   "language": "python",
   "name": "python3"
  },
  "language_info": {
   "codemirror_mode": {
    "name": "ipython",
    "version": 3
   },
   "file_extension": ".py",
   "mimetype": "text/x-python",
   "name": "python",
   "nbconvert_exporter": "python",
   "pygments_lexer": "ipython3",
   "version": "3.8.8"
  }
 },
 "nbformat": 4,
 "nbformat_minor": 5
}
